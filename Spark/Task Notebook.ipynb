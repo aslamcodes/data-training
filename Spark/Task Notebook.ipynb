{
 "cells": [
  {
   "cell_type": "markdown",
   "id": "e7cd9442-3260-406a-8e75-5420d8afffbb",
   "metadata": {},
   "source": [
    "# Setup"
   ]
  },
  {
   "cell_type": "code",
   "execution_count": 1,
   "id": "37df07a1-72f9-4c61-a295-e880524573fc",
   "metadata": {},
   "outputs": [],
   "source": [
    "from pyspark.sql import SparkSession\n",
    "from pyspark.sql.functions import sum, col, to_date, when, date_format, month\n"
   ]
  },
  {
   "cell_type": "code",
   "execution_count": 2,
   "id": "314a8b72-0a62-4e6a-b4fb-893feec98708",
   "metadata": {},
   "outputs": [
    {
     "name": "stderr",
     "output_type": "stream",
     "text": [
      "24/08/22 21:39:18 WARN Utils: Your hostname, Mohameds-MacBook-Air.local resolves to a loopback address: 127.0.0.1; using 192.168.1.3 instead (on interface en0)\n",
      "24/08/22 21:39:18 WARN Utils: Set SPARK_LOCAL_IP if you need to bind to another address\n",
      "Setting default log level to \"WARN\".\n",
      "To adjust logging level use sc.setLogLevel(newLevel). For SparkR, use setLogLevel(newLevel).\n",
      "24/08/22 21:39:18 WARN NativeCodeLoader: Unable to load native-hadoop library for your platform... using builtin-java classes where applicable\n"
     ]
    }
   ],
   "source": [
    "spark = SparkSession.builder \\\n",
    "    .master(\"local\") \\\n",
    "    .appName(\"Covid\") \\\n",
    "    .config(\"spark.some.config.option\", \"some-value\") \\\n",
    "    .getOrCreate()"
   ]
  },
  {
   "cell_type": "code",
   "execution_count": 3,
   "id": "96c8f2a5-1b85-4d4a-b2c7-09896b0154a8",
   "metadata": {},
   "outputs": [],
   "source": [
    "df = spark.read.csv(\"./covid.csv\", header=True, inferSchema=True)"
   ]
  },
  {
   "cell_type": "markdown",
   "id": "96182c00-814e-45cb-8853-626da7316e63",
   "metadata": {},
   "source": [
    "# The Day with max covid cases\n",
    "1. Group by date\n",
    "2. With agg sum of Confirmed cases\n",
    "3. Order by the sum\n",
    "4. Get the first one"
   ]
  },
  {
   "cell_type": "code",
   "execution_count": 4,
   "id": "fca78ec6-25a1-4979-8995-ed6b2178c59a",
   "metadata": {},
   "outputs": [],
   "source": [
    "daily_cases = df.groupBy(\"Date\").agg(sum(\"Total Confirmed cases\").alias(\"Total_Cases\"))"
   ]
  },
  {
   "cell_type": "code",
   "execution_count": 5,
   "id": "9b3f26f7-3c93-4f02-9cff-b2d41a2a7621",
   "metadata": {},
   "outputs": [
    {
     "name": "stdout",
     "output_type": "stream",
     "text": [
      "It was on 06-Aug-2020 max covid cases recorded\n"
     ]
    }
   ],
   "source": [
    "max_cases_day = daily_cases.orderBy(daily_cases[\"Total_Cases\"].desc()).limit(1)\n",
    "max_cases_day  = max_cases_day.withColumn(\"Formatted_Date\", date_format(col(\"Date\"), \"dd-MMM-yyyy\"))\n",
    "result = max_cases_day.collect()[0]\n",
    "\n",
    "formatted_date_str = result['Formatted_Date']\n",
    "print(f\"It was on {formatted_date_str} max covid cases recorded\")\n"
   ]
  },
  {
   "cell_type": "markdown",
   "id": "6c76c9dc-262f-4957-827c-45eb0a8e2c9e",
   "metadata": {},
   "source": [
    "# The state has the second-largest number of covid cases.\n",
    "- Group by State\n",
    "- Find the agg sum of confirmed cases\n",
    "- Order by \n"
   ]
  },
  {
   "cell_type": "code",
   "execution_count": 6,
   "id": "1f50b3e1-cf7f-45ba-b9d1-8dcbc5436f0e",
   "metadata": {},
   "outputs": [],
   "source": [
    "\n",
    "state_cases = df.groupBy(\"Name of State / UT\").agg(sum(\"Total Confirmed cases\").alias(\"Total_Cases\"))\n"
   ]
  },
  {
   "cell_type": "code",
   "execution_count": 7,
   "id": "319bb438-2222-4f82-8120-d595b42bdae2",
   "metadata": {},
   "outputs": [
    {
     "name": "stdout",
     "output_type": "stream",
     "text": [
      "State with second largest covid cases Tamil Nadu\n"
     ]
    }
   ],
   "source": [
    "second_largest_state = state_cases.orderBy(state_cases[\"Total_Cases\"].desc()).limit(2).collect()[1]\n",
    "\n",
    "print(f\"State with second largest covid cases {second_largest_state['Name of State / UT']}\")\n"
   ]
  },
  {
   "cell_type": "markdown",
   "id": "937b13d6-b761-4226-bf61-19a65a4111ea",
   "metadata": {},
   "source": [
    "# Which Union Territory has the least number of death.\n",
    "1. Group by all the union territories with agg sum of deaths (No way to find UT)\n",
    "2. Order by the the death count\n",
    "3. get the first one"
   ]
  },
  {
   "cell_type": "code",
   "execution_count": 8,
   "id": "21c19516-ca98-4b69-b97d-18d2f34452eb",
   "metadata": {},
   "outputs": [],
   "source": [
    "states = [\n",
    "    \"Andaman and Nicobar Islands\", \"Chandigarh\", \"Dadra and Nagar Haveli and Daman and Diu\",\n",
    "    \"Delhi\", \"Jammu and Kashmir\", \"Ladakh\", \"Lakshadweep\", \"Puducherry\"\n",
    "]\n",
    "\n",
    "pattern = \"(?i)\" + \"|\".join(states)\n",
    "\n",
    "states = df.filter(df[\"Name of State / UT\"].rlike(pattern))\n"
   ]
  },
  {
   "cell_type": "code",
   "execution_count": 9,
   "id": "9ae9dd04-4e5d-471e-bb14-b0a24b1b4bee",
   "metadata": {},
   "outputs": [],
   "source": [
    "deaths = states.groupBy(\"Name of State / UT\").agg(sum(\"Death\").alias(\"Total_Deaths\"))"
   ]
  },
  {
   "cell_type": "code",
   "execution_count": 10,
   "id": "fe5e1908-8dae-4dfe-aae2-20a9b9f3ac4a",
   "metadata": {},
   "outputs": [
    {
     "name": "stdout",
     "output_type": "stream",
     "text": [
      "Least deaths recorded in 'Dadra and Nagar Haveli and Daman and Diu'\n"
     ]
    }
   ],
   "source": [
    "\n",
    "\n",
    "state_with_low_deaths = deaths.orderBy(\"Total_Deaths\").first()\n",
    "state_with_low_deaths_non_zero = deaths.filter(col(\"Total_Deaths\") > 0).orderBy(\"Total_Deaths\").first()\n",
    "\n",
    "print(f\"Least deaths recorded in '{state_with_low_deaths_non_zero[\"Name of State / UT\"]}'\")"
   ]
  },
  {
   "cell_type": "markdown",
   "id": "d9fcf0d8-36a7-4b62-9b83-ebfc9b8e181b",
   "metadata": {},
   "source": [
    "# The state has the lowest Death to Total Confirmed cases ratio.\n",
    "1. Group by state\n",
    "2. Calculate the agg sum death\n",
    "3. Calculate the agg sum Total Cases\n",
    "4. Find the ratio\n",
    "5. Order by the ratio\n",
    "6. Get the first one\n"
   ]
  },
  {
   "cell_type": "code",
   "execution_count": 11,
   "id": "8bbc18ac-025a-462a-bf03-2c7fca5903a0",
   "metadata": {},
   "outputs": [],
   "source": [
    "\n",
    "state_ratios = df.groupBy(\"Name of State / UT\").agg(\n",
    "    sum(\"Death\").alias(\"Total_Deaths\"),\n",
    "    sum(\"Total Confirmed cases\").alias(\"Total_Cases\")\n",
    ").withColumn(\n",
    "    \"Death_to_Cases_Ratio\",\n",
    "    when(col(\"Total_Cases\") != 0, col(\"Total_Deaths\") / col(\"Total_Cases\")).otherwise(None)\n",
    ")\n"
   ]
  },
  {
   "cell_type": "code",
   "execution_count": 12,
   "id": "c01439cc-eb0c-475f-927b-79773c798bd9",
   "metadata": {},
   "outputs": [
    {
     "name": "stdout",
     "output_type": "stream",
     "text": [
      "Mizoram\n"
     ]
    }
   ],
   "source": [
    "lowest_ratio_state = state_ratios.orderBy(\"Death_to_Cases_Ratio\").first()\n",
    "\n",
    "print(lowest_ratio_state[\"Name of State / UT\"])"
   ]
  },
  {
   "cell_type": "markdown",
   "id": "0034c585-a55d-4eed-aa10-33b5102e54bc",
   "metadata": {},
   "source": [
    "# Find which month the Most Newer recovered cases.\n",
    "1. Group by months from dates\n",
    "2. find the agg sum of new cases\n",
    "3. Order the DF by agg sum\n",
    "4. Get the first one"
   ]
  },
  {
   "cell_type": "code",
   "execution_count": 13,
   "id": "587c788f-263b-40f9-8265-1ec56f7d40e3",
   "metadata": {},
   "outputs": [],
   "source": [
    "\n",
    "new_cases_by_month = df.groupBy(date_format('Date','MMMM').alias(\"Month\")).agg(sum(\"New recovered\").alias(\"Total New Recovered\"))\n"
   ]
  },
  {
   "cell_type": "code",
   "execution_count": 14,
   "id": "0d80946c-87b0-4db5-b3c9-a22bc0e6f051",
   "metadata": {},
   "outputs": [
    {
     "name": "stdout",
     "output_type": "stream",
     "text": [
      "The month with most new recoveries is 'July'\n"
     ]
    }
   ],
   "source": [
    "most_recover_cases = new_cases_by_month.orderBy(new_cases_by_month[\"Total New Recovered\"].desc()).first()[\"Month\"]\n",
    "print(f\"The month with most new recoveries is '{most_recover_cases}'\")"
   ]
  },
  {
   "cell_type": "code",
   "execution_count": null,
   "id": "775cb173-f636-4e9f-ba3f-b360491a7b45",
   "metadata": {},
   "outputs": [],
   "source": []
  }
 ],
 "metadata": {
  "kernelspec": {
   "display_name": "Python 3 (ipykernel)",
   "language": "python",
   "name": "python3"
  },
  "language_info": {
   "codemirror_mode": {
    "name": "ipython",
    "version": 3
   },
   "file_extension": ".py",
   "mimetype": "text/x-python",
   "name": "python",
   "nbconvert_exporter": "python",
   "pygments_lexer": "ipython3",
   "version": "3.12.2"
  }
 },
 "nbformat": 4,
 "nbformat_minor": 5
}
